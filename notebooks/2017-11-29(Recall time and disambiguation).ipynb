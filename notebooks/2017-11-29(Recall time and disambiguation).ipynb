{
 "cells": [
  {
   "cell_type": "markdown",
   "metadata": {
    "toc": true
   },
   "source": [
    "<h1>Table of Contents<span class=\"tocSkip\"></span></h1>\n",
    "<div class=\"toc\"><ul class=\"toc-item\"><li><span><a href=\"#Recall-time-and-disambiguation\" data-toc-modified-id=\"Recall-time-and-disambiguation-1\"><span class=\"toc-item-num\">1&nbsp;&nbsp;</span>Recall time and disambiguation</a></span><ul class=\"toc-item\"><li><span><a href=\"#A-simple-example-for-debugging-and-visuaisation\" data-toc-modified-id=\"A-simple-example-for-debugging-and-visuaisation-1.1\"><span class=\"toc-item-num\">1.1&nbsp;&nbsp;</span>A simple example for debugging and visuaisation</a></span></li></ul></li></ul></div>"
   ]
  },
  {
   "cell_type": "markdown",
   "metadata": {},
   "source": [
    "# Recall time and disambiguation"
   ]
  },
  {
   "cell_type": "code",
   "execution_count": 1,
   "metadata": {
    "collapsed": true
   },
   "outputs": [],
   "source": [
    "import sys\n",
    "sys.path.append('../')\n",
    "import matplotlib\n",
    "import matplotlib.pyplot as plt\n",
    "import numpy as np\n",
    "import seaborn as sns\n",
    "\n",
    "from mpl_toolkits.axes_grid1 import make_axes_locatable\n",
    "\n",
    "%matplotlib inline\n",
    "\n",
    "plt.rcParams[\"figure.figsize\"] = [16,9]\n",
    "sns.set(font_scale=3.0)\n",
    "\n",
    "from network import run_network_recall, train_network, run_network_recall_limit\n",
    "from connectivity import designed_matrix_sequences, designed_matrix_sequences_local\n",
    "from analysis import get_recall_duration_for_pattern, get_recall_duration_sequence, create_sequence_chain\n",
    "from analysis import time_t1, time_t2, time_t1_local, time_t2_local, time_t2_complicated\n",
    "from network import run_network_recall_limit_end\n"
   ]
  },
  {
   "cell_type": "markdown",
   "metadata": {},
   "source": [
    "## A simple example for debugging and visuaisation"
   ]
  },
  {
   "cell_type": "code",
   "execution_count": null,
   "metadata": {
    "collapsed": true
   },
   "outputs": [],
   "source": []
  }
 ],
 "metadata": {
  "kernelspec": {
   "display_name": "Python 3",
   "language": "python",
   "name": "python3"
  },
  "language_info": {
   "codemirror_mode": {
    "name": "ipython",
    "version": 3
   },
   "file_extension": ".py",
   "mimetype": "text/x-python",
   "name": "python",
   "nbconvert_exporter": "python",
   "pygments_lexer": "ipython3",
   "version": "3.7.0"
  },
  "toc": {
   "base_numbering": 1,
   "nav_menu": {},
   "number_sections": true,
   "sideBar": true,
   "skip_h1_title": false,
   "title_cell": "Table of Contents",
   "title_sidebar": "Contents",
   "toc_cell": true,
   "toc_position": {},
   "toc_section_display": true,
   "toc_window_display": false
  }
 },
 "nbformat": 4,
 "nbformat_minor": 2
}
