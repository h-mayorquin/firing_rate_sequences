{
 "cells": [
  {
   "cell_type": "markdown",
   "metadata": {},
   "source": [
    "# Cell assemblies"
   ]
  },
  {
   "cell_type": "code",
   "execution_count": 1,
   "metadata": {
    "collapsed": true
   },
   "outputs": [],
   "source": [
    "import sys\n",
    "sys.path.append('../')\n",
    "import matplotlib\n",
    "import matplotlib.pyplot as plt\n",
    "import numpy as np\n",
    "import seaborn as sns\n",
    "\n",
    "%matplotlib inline\n",
    "\n",
    "plt.rcParams[\"figure.figsize\"] = [16,9]\n",
    "sns.set(font_scale=3.0)\n",
    "\n",
    "from network import run_network_recall, train_network\n",
    "from connectivity import designed_matrix_sequences\n",
    "from analysis import get_recall_duration_for_pattern, get_recall_duration_sequence"
   ]
  },
  {
   "cell_type": "code",
   "execution_count": null,
   "metadata": {
    "collapsed": true
   },
   "outputs": [],
   "source": [
    "N = 10\n",
    "tau_z = 0.050\n",
    "tau_z_post = 0.005\n",
    "tau_w = 0.020\n",
    "\n",
    "training_time = 0.100\n",
    "inter_sequence_time = 0.000\n",
    "dt = 0.001\n",
    "sequence1 = [0, 1, 2, 3]\n",
    "sequence2 = [4, 5, 6, 7, 8, 9]\n",
    "sequences = [sequence1, sequence2]\n",
    "\n",
    "dic = train_network(N, dt, training_time, inter_sequence_time, sequences, tau_z,\n",
    "                    tau_z_post, tau_w, epochs=3, max_w=5.0, min_w=-3.0)\n",
    "\n",
    "w = dic['w']\n",
    "x_total = dic['x']\n",
    "z_history = dic['z']\n",
    "z_post_history = dic['z_post']\n",
    "\n",
    "plt.matshow(w, cmap='seismic')\n",
    "plt.colorbar();"
   ]
  }
 ],
 "metadata": {
  "kernelspec": {
   "display_name": "Python 3",
   "language": "python",
   "name": "python3"
  },
  "language_info": {
   "codemirror_mode": {
    "name": "ipython",
    "version": 3
   },
   "file_extension": ".py",
   "mimetype": "text/x-python",
   "name": "python",
   "nbconvert_exporter": "python",
   "pygments_lexer": "ipython3",
   "version": "3.6.2"
  }
 },
 "nbformat": 4,
 "nbformat_minor": 2
}
